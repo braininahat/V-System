{
 "cells": [
  {
   "cell_type": "code",
   "execution_count": 1,
   "id": "f5783b3c-6a8c-4a5d-8bd1-45836b8d3b26",
   "metadata": {},
   "outputs": [],
   "source": [
    "from datetime import datetime\n",
    "from multiprocessing import Pool\n",
    "import numpy as np\n",
    "import random\n",
    "from libGenerator import setProperties\n",
    "from vSystem import F\n",
    "from analyseGrammar import branching_turtle_to_coords\n",
    "from computeVoxel import process_network\n",
    "from utils import bezier_interpolation\n",
    "import matplotlib.pyplot as plt\n",
    "from tqdm.notebook import tqdm\n",
    "import scipy.io as scio\n",
    "%matplotlib widget"
   ]
  },
  {
   "cell_type": "code",
   "execution_count": 3,
   "id": "afd316c4-6d52-4a34-bce8-5a80c620cd44",
   "metadata": {
    "scrolled": true,
    "tags": []
   },
   "outputs": [
    {
     "data": {
      "application/vnd.jupyter.widget-view+json": {
       "model_id": "e09585a8ffa44a61827413ae1ed7fab9",
       "version_major": 2,
       "version_minor": 0
      },
      "text/plain": [
       "  0%|          | 0/20 [00:00<?, ?it/s]"
      ]
     },
     "metadata": {},
     "output_type": "display_data"
    },
    {
     "name": "stdout",
     "output_type": "stream",
     "text": [
      "Leading 0 error: leading zeros in decimal integer literals are not permitted; use an 0o prefix for octal integers (<string>, line 1)\n",
      "Leading 0 error: leading zeros in decimal integer literals are not permitted; use an 0o prefix for octal integers (<string>, line 1)\n",
      "Leading 0 error: leading zeros in decimal integer literals are not permitted; use an 0o prefix for octal integers (<string>, line 1)\n"
     ]
    }
   ],
   "source": [
    "n = 20\n",
    "d0mean = 20.0\n",
    "d0std = 5.0\n",
    "tissueVolume = (512, 512, 512)\n",
    "\n",
    "# Default Parameters\n",
    "vessels = []\n",
    "\n",
    "pbar = tqdm(total=n)\n",
    "\n",
    "while len(vessels)<n:\n",
    "    # print(\"Creating image ... %i with %i iterations\" % (file, niter))\n",
    "    # Lindenmayer System Parameters\n",
    "    now = datetime.now()\n",
    "    timestamp = now.strftime(\"%Y%m%dT%H%M%S\")\n",
    "    \n",
    "    properties = {\n",
    "        \"k\": random.uniform(1,10),\n",
    "        \"epsilon\": random.uniform(4,20), # Proportion between length & diameter\n",
    "        \"randmarg\": random.uniform(1,10),  # Randomness margin between length & diameter\n",
    "        \"sigma\": random.uniform(1,10),  # Determines type deviation for Gaussian distributions\n",
    "        \"stochparams\": True,\n",
    "        \"timestamp\": timestamp,\n",
    "        \n",
    "    }  # Whether the generated parameters will also be stochastic\n",
    "    \n",
    "    d0 = np.random.normal(d0mean, d0std)  # Ramdonly assign base diameter (no dimension)\n",
    "    niter = random.randint(6, 14)  # Randomly assign number of L-System recursive loops\n",
    "    setProperties(properties)  # Setting L-Sytem properties\n",
    "    \n",
    "    properties.update({\n",
    "            \"d0\": d0, \n",
    "            \"niter\": niter,\n",
    "            \"d0mean\": d0mean,\n",
    "            \"d0std\": d0std,\n",
    "            \"tissueVolume\": tissueVolume,\n",
    "        })\n",
    "\n",
    "    try:\n",
    "        \n",
    "        \"\"\" Run L-System grammar for n iterations \"\"\"\n",
    "        turtle_program = F(niter, d0)\n",
    "\n",
    "        \"\"\" Convert grammar into coordinates \"\"\"\n",
    "        coords = branching_turtle_to_coords(turtle_program, d0)\n",
    "\n",
    "        \"\"\" Analyse / sort coordinate data \"\"\"\n",
    "        update = bezier_interpolation(coords)\n",
    "\n",
    "        \"\"\" If you fancy, plot a 2D image of the network! \"\"\"\n",
    "        # plot_coords(newdata, array=True, bare_plot=False) # bare_plot removes the axis labels\n",
    "\n",
    "        \"\"\" Run 3D voxel traversal to generate binary mask of L-System network \"\"\"\n",
    "        vol = process_network(update, tVol=tissueVolume).astype(np.uint8)\n",
    "        vessels.append(vol)\n",
    "        \n",
    "        x, y, z = np.where(vol > 0)\n",
    "        \n",
    "        scio.savemat(\n",
    "            f\"vessels/sim_{timestamp}.mat\", \n",
    "            {\"sim\": vol, \n",
    "             \"x\": x.astype(np.uint16), \n",
    "             \"y\": y.astype(np.uint16), \n",
    "             \"z\":z.astype(np.uint16), \n",
    "             \"properties\": properties\n",
    "            }\n",
    "        )\n",
    "        \n",
    "        pbar.update()\n",
    "\n",
    "    except SyntaxError as e:\n",
    "        print(f\"Leading 0 error: {e}\")\n",
    "        continue\n",
    "    except ValueError as e:\n",
    "        print(f\"Division by 0 error: {e}\")\n",
    "        continue\n",
    "\n",
    "pbar.close()"
   ]
  },
  {
   "cell_type": "code",
   "execution_count": null,
   "id": "ae8cabbb-858a-412f-ac09-221cfbd5ea24",
   "metadata": {},
   "outputs": [],
   "source": [
    "# image = vessels[1]"
   ]
  },
  {
   "cell_type": "code",
   "execution_count": null,
   "id": "1f72e01f-476a-4eb2-a161-20e926ba9770",
   "metadata": {},
   "outputs": [],
   "source": [
    "# image.shape"
   ]
  },
  {
   "cell_type": "code",
   "execution_count": null,
   "id": "347d17cb-24b5-44f4-8b1d-238fe826773f",
   "metadata": {},
   "outputs": [],
   "source": [
    "# x,y,z = np.where(image>0)"
   ]
  },
  {
   "cell_type": "code",
   "execution_count": null,
   "id": "ff798ade-1ff1-4fbd-a604-48380db03654",
   "metadata": {},
   "outputs": [],
   "source": [
    "# fig = plt.figure()\n",
    "# ax = fig.add_subplot(projection=\"3d\")\n",
    "# ax.scatter(x,y,z,s=0.01)\n",
    "# plt.show()"
   ]
  },
  {
   "cell_type": "code",
   "execution_count": null,
   "id": "2e032f21-3492-42ca-ab88-a2651032e570",
   "metadata": {},
   "outputs": [],
   "source": []
  },
  {
   "cell_type": "code",
   "execution_count": null,
   "id": "eac6034c-6d60-4690-a281-85c7f960b9ae",
   "metadata": {},
   "outputs": [],
   "source": []
  }
 ],
 "metadata": {
  "kernelspec": {
   "display_name": "Python 3",
   "language": "python",
   "name": "python3"
  },
  "language_info": {
   "codemirror_mode": {
    "name": "ipython",
    "version": 3
   },
   "file_extension": ".py",
   "mimetype": "text/x-python",
   "name": "python",
   "nbconvert_exporter": "python",
   "pygments_lexer": "ipython3",
   "version": "3.8.16"
  }
 },
 "nbformat": 4,
 "nbformat_minor": 5
}
